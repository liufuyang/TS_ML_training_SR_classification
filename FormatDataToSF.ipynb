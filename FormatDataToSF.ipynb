{
 "cells": [
  {
   "cell_type": "code",
   "execution_count": 1,
   "metadata": {
    "collapsed": true
   },
   "outputs": [],
   "source": [
    "import glob\n",
    "\n",
    "docs = list()\n",
    "receivers = list()\n",
    "senders = list()\n",
    "\n",
    "for path in glob.glob(\"data/*\"):\n",
    "    with open(path) as f:\n",
    "        receivers.append(f.readline())\n",
    "        senders.append(f.readline())\n",
    "        docs.append(f.readline())"
   ]
  },
  {
   "cell_type": "code",
   "execution_count": 3,
   "metadata": {
    "collapsed": false
   },
   "outputs": [
    {
     "name": "stderr",
     "output_type": "stream",
     "text": [
      "2016-03-18 22:31:48,889 [INFO] sframe.cython.cy_server, 172: SFrame v1.8.4 started. Logging /tmp/sframe_server_1458336708.log\n"
     ]
    }
   ],
   "source": [
    "import sframe\n",
    "import pandas as pd\n",
    "\n",
    "df = pd.DataFrame()\n",
    "sf = sframe.SFrame(data=df)"
   ]
  },
  {
   "cell_type": "code",
   "execution_count": 4,
   "metadata": {
    "collapsed": true
   },
   "outputs": [],
   "source": [
    "sf['text'] = docs\n",
    "sf['receivers'] = receivers\n",
    "sf['senders'] = senders"
   ]
  },
  {
   "cell_type": "code",
   "execution_count": 5,
   "metadata": {
    "collapsed": false
   },
   "outputs": [
    {
     "data": {
      "text/plain": [
       "<bound method SFrame.show of Columns:\n",
       "\ttext\tstr\n",
       "\treceivers\tstr\n",
       "\tsenders\tstr\n",
       "\n",
       "Rows: 218880\n",
       "\n",
       "Data:\n",
       "+-------------------------------+-------------------------------+\n",
       "|              text             |           receivers           |\n",
       "+-------------------------------+-------------------------------+\n",
       "| c38588aa0dc94d991aabe5ca54... | edb0221a1339c19d905d6927ad... |\n",
       "| 112e3f0d25268b26baa3755faf... | fb6ff1de87bad487c7e981c7e8... |\n",
       "| 2ef2d9e48ac8dc9c792b4b0dfa... | 91c7bc2a987c847c8e276afdd7... |\n",
       "| 7e629207146a5871e9a4e3d0b8... | a7b7a0ae78efbef25917061cad... |\n",
       "| ab5ea2a055e4d43aa8f6c0a4cd... | 8ce4b36c51f57c022d4daa9b0e... |\n",
       "| 215bf076eb073dc85923678a73... | 91c7bc2a987c847c8e276afdd7... |\n",
       "| feeb6b3fe6d9102d12a0e58b67... | 3317a50a9b3daecc4967a1993e... |\n",
       "| faae2caa696257b93510afd61a... | 99789873619f5f8a8ffb885170... |\n",
       "| 43769445019be7bb4b7e9ba8e3... | 55b3309b7b9f6fe00ccf66167a... |\n",
       "| 17f5480a61cb1405b70f201957... | edb0221a1339c19d905d6927ad... |\n",
       "+-------------------------------+-------------------------------+\n",
       "+-------------------------------+\n",
       "|            senders            |\n",
       "+-------------------------------+\n",
       "| 5af06bfbc378849c35d98cc536... |\n",
       "| 5b28be331af03bd6f8add20fbc... |\n",
       "| 65cf978d1d41e468044ff94781... |\n",
       "| 6d0d71c607c28c4e411ac396fe... |\n",
       "| e03d5b4f5d5529dc8fb7c68d51... |\n",
       "| aac17378bda7bd3c197b3dd863... |\n",
       "| 7af09a86a394fd6d0d56a4a700... |\n",
       "| e03d5b4f5d5529dc8fb7c68d51... |\n",
       "| 3bc758c5ae129440d9d6b4c0e4... |\n",
       "| 493dfdd23bb15891a8c79dc1be... |\n",
       "+-------------------------------+\n",
       "[218880 rows x 3 columns]\n",
       "Note: Only the head of the SFrame is printed.\n",
       "You can use print_rows(num_rows=m, num_columns=n) to print more rows and columns.>"
      ]
     },
     "execution_count": 5,
     "metadata": {},
     "output_type": "execute_result"
    }
   ],
   "source": [
    "sf.show"
   ]
  },
  {
   "cell_type": "code",
   "execution_count": 6,
   "metadata": {
    "collapsed": true
   },
   "outputs": [],
   "source": [
    "sf.save('./data_sf/text_receiver_sender')"
   ]
  },
  {
   "cell_type": "code",
   "execution_count": null,
   "metadata": {
    "collapsed": true
   },
   "outputs": [],
   "source": []
  }
 ],
 "metadata": {
  "kernelspec": {
   "display_name": "Python 2",
   "language": "python",
   "name": "python2"
  },
  "language_info": {
   "codemirror_mode": {
    "name": "ipython",
    "version": 2
   },
   "file_extension": ".py",
   "mimetype": "text/x-python",
   "name": "python",
   "nbconvert_exporter": "python",
   "pygments_lexer": "ipython2",
   "version": "2.7.11"
  }
 },
 "nbformat": 4,
 "nbformat_minor": 0
}
