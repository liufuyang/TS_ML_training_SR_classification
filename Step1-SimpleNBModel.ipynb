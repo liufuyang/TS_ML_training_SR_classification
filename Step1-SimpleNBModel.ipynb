{
 "cells": [
  {
   "cell_type": "markdown",
   "metadata": {},
   "source": [
    "## Load and select data\n",
    "\n",
    "sf_use have 20000 samples"
   ]
  },
  {
   "cell_type": "code",
   "execution_count": 1,
   "metadata": {
    "collapsed": false
   },
   "outputs": [
    {
     "name": "stderr",
     "output_type": "stream",
     "text": [
      "Vendor:  Continuum Analytics, Inc.\n",
      "Package: mkl\n",
      "Message: trial mode expires in 25 days\n"
     ]
    }
   ],
   "source": [
    "import sframe\n",
    "import pandas as pd\n",
    "import numpy as np"
   ]
  },
  {
   "cell_type": "code",
   "execution_count": 2,
   "metadata": {
    "collapsed": false
   },
   "outputs": [
    {
     "name": "stderr",
     "output_type": "stream",
     "text": [
      "2016-03-20 11:21:19,722 [INFO] sframe.cython.cy_server, 172: SFrame v1.8.5 started. Logging /tmp/sframe_server_1458469279.log\n"
     ]
    }
   ],
   "source": [
    "sf = sframe.load_sframe('./data_sf/text_receiver_sender_small')"
   ]
  },
  {
   "cell_type": "code",
   "execution_count": 3,
   "metadata": {
    "collapsed": false
   },
   "outputs": [
    {
     "data": {
      "text/plain": [
       "<bound method SFrame.show of Columns:\n",
       "\ttext\tstr\n",
       "\treceivers\tstr\n",
       "\tsenders\tstr\n",
       "\n",
       "Rows: 21701\n",
       "\n",
       "Data:\n",
       "+-------------------------------+-------------------------------+\n",
       "|              text             |           receivers           |\n",
       "+-------------------------------+-------------------------------+\n",
       "| 344b81533b796a34c421a3deff... | 4ce8e5745bca246851bc296335... |\n",
       "| b47b78d46234b18a6416309ac8... | 834153b754a750fa32eb8ff67c... |\n",
       "| e3d283f2b822e1a83df57d1e1e... | 9934e01ee42946786ec889f928... |\n",
       "| 5675c3d801bb9fc829d4696324... | 91c7bc2a987c847c8e276afdd7... |\n",
       "| 44dc5184aac2135a1acbe83496... | e6662ac4f67d84147c1057a9c6... |\n",
       "| 6d58b8a0e1ccae99a5a483a211... | cb0aec98bef0720963bd09a31a... |\n",
       "| cc27bf554bd6fff0a5eebc02d9... | edb0221a1339c19d905d6927ad... |\n",
       "| faae2caa696257b93510afd61a... | 75f371ccd61a5d33ca8b7ae6cb... |\n",
       "| b10c0968369a934c7f9e672388... | d9271c76465977c78785b9ce38... |\n",
       "| ef872668a410261e254836afa0... | edb0221a1339c19d905d6927ad... |\n",
       "+-------------------------------+-------------------------------+\n",
       "+-------------------------------+\n",
       "|            senders            |\n",
       "+-------------------------------+\n",
       "| 31b00aa17e9ec1edf0e18c58a7... |\n",
       "| 91c0fb671fbad304a8f61c7b70... |\n",
       "| a9fa430d5337cc5a0deed7ff32... |\n",
       "| 567557131fd0a67ddc14f96eb2... |\n",
       "| 26a2a7726d6618a4be3a9474ce... |\n",
       "| 3bc53270e26dccff200b513e93... |\n",
       "| 99d04ab26da340f743eca519c4... |\n",
       "| 61fcf0ee2b2f41501606c0fe1f... |\n",
       "| 18697dffc80d20f4560f4990bc... |\n",
       "| 23988da276551e66f451f62394... |\n",
       "+-------------------------------+\n",
       "[21701 rows x 3 columns]\n",
       "Note: Only the head of the SFrame is printed.\n",
       "You can use print_rows(num_rows=m, num_columns=n) to print more rows and columns.>"
      ]
     },
     "execution_count": 3,
     "metadata": {},
     "output_type": "execute_result"
    }
   ],
   "source": [
    "sf.show"
   ]
  },
  {
   "cell_type": "code",
   "execution_count": 4,
   "metadata": {
    "collapsed": false
   },
   "outputs": [],
   "source": [
    "#sf_use = sf.sample(.1, seed=5)\n",
    "#sf = sf_use.save('./data_sf/text_receiver_sender_small')"
   ]
  },
  {
   "cell_type": "code",
   "execution_count": 5,
   "metadata": {
    "collapsed": true
   },
   "outputs": [],
   "source": [
    "sf_use = sf.to_dataframe()"
   ]
  },
  {
   "cell_type": "code",
   "execution_count": 6,
   "metadata": {
    "collapsed": false
   },
   "outputs": [
    {
     "data": {
      "text/plain": [
       "(21701, 3)"
      ]
     },
     "execution_count": 6,
     "metadata": {},
     "output_type": "execute_result"
    }
   ],
   "source": [
    "sf_use.shape"
   ]
  },
  {
   "cell_type": "code",
   "execution_count": 7,
   "metadata": {
    "collapsed": false
   },
   "outputs": [
    {
     "name": "stdout",
     "output_type": "stream",
     "text": [
      "Sample number of train and test are: 17360, 4341\n"
     ]
    }
   ],
   "source": [
    "from sklearn.cross_validation import train_test_split\n",
    "\n",
    "sf_train, sf_test = train_test_split(sf_use,  test_size = 0.2)\n",
    "print('Sample number of train and test are: %d, %d' % (len(sf_train), len(sf_test))) "
   ]
  },
  {
   "cell_type": "markdown",
   "metadata": {},
   "source": [
    "## Seperate test to known label and unknown label"
   ]
  },
  {
   "cell_type": "code",
   "execution_count": 10,
   "metadata": {
    "collapsed": false
   },
   "outputs": [],
   "source": [
    "unique_train_senders = np.unique(sf_train['senders'])\n",
    "unique_train_receivers = np.unique(sf_train['receivers'])\n",
    "\n",
    "sf_test.loc[:, 'known_s'] = sf_test['senders'].apply(lambda x: 1 if x in unique_train_senders else 0)\n",
    "sf_test.loc[:, 'known_r'] = sf_test['receivers'].apply(lambda x: 1 if x in unique_train_receivers else 0)"
   ]
  },
  {
   "cell_type": "code",
   "execution_count": 9,
   "metadata": {
    "collapsed": false
   },
   "outputs": [
    {
     "data": {
      "text/html": [
       "<div>\n",
       "<table border=\"1\" class=\"dataframe\">\n",
       "  <thead>\n",
       "    <tr style=\"text-align: right;\">\n",
       "      <th></th>\n",
       "      <th>text</th>\n",
       "      <th>receivers</th>\n",
       "      <th>senders</th>\n",
       "      <th>known_s</th>\n",
       "      <th>known_r</th>\n",
       "    </tr>\n",
       "  </thead>\n",
       "  <tbody>\n",
       "    <tr>\n",
       "      <th>12240</th>\n",
       "      <td>2b0ccf61b48253ac3c27b9efb41e7f149286150defcf50...</td>\n",
       "      <td>41b9da605c37d321fcdbed70be36f75b5978a0c44c7ae8...</td>\n",
       "      <td>34c5c6a8ebdf316bf37f5ef03a229d1837ed20e1b40b42...</td>\n",
       "      <td>1</td>\n",
       "      <td>1</td>\n",
       "    </tr>\n",
       "    <tr>\n",
       "      <th>9627</th>\n",
       "      <td>a48f2f0350090edab1c8627df26b5b81454942607d9f72...</td>\n",
       "      <td>2d77a135bd4bc7ed35aeb582360f330007aad504a442e6...</td>\n",
       "      <td>61fcf0ee2b2f41501606c0fe1f42332701cb1e31c30a12...</td>\n",
       "      <td>1</td>\n",
       "      <td>1</td>\n",
       "    </tr>\n",
       "    <tr>\n",
       "      <th>10164</th>\n",
       "      <td>3e343f0639a9513fb0c2fe77fa19e202612dc0c0770d9c...</td>\n",
       "      <td>7c297a3dbebba540557532cd79b0e717863522ec4ab386...</td>\n",
       "      <td>dc70fd3a9b7ecf54a2bee61d40d8262c30d50f01d7dbb8...</td>\n",
       "      <td>1</td>\n",
       "      <td>1</td>\n",
       "    </tr>\n",
       "    <tr>\n",
       "      <th>18575</th>\n",
       "      <td>b75bb61498720b6f3070c7bb5567cac371f04e3e3e4ae2...</td>\n",
       "      <td>fb6ff1de87bad487c7e981c7e8e9eacc0962eba43b447a...</td>\n",
       "      <td>2469aba9d45a63c7537763a05f1461dbcea87b328e0087...</td>\n",
       "      <td>1</td>\n",
       "      <td>1</td>\n",
       "    </tr>\n",
       "    <tr>\n",
       "      <th>10808</th>\n",
       "      <td>f38f2be4158dc0e49d4a75983c2fbc2833ba32ab9aa4b3...</td>\n",
       "      <td>834153b754a750fa32eb8ff67c70590b13706165038525...</td>\n",
       "      <td>f6149311800bf4d8031cf36f4eca9f7e43bdbd141f9fea...</td>\n",
       "      <td>1</td>\n",
       "      <td>1</td>\n",
       "    </tr>\n",
       "  </tbody>\n",
       "</table>\n",
       "</div>"
      ],
      "text/plain": [
       "                                                    text  \\\n",
       "12240  2b0ccf61b48253ac3c27b9efb41e7f149286150defcf50...   \n",
       "9627   a48f2f0350090edab1c8627df26b5b81454942607d9f72...   \n",
       "10164  3e343f0639a9513fb0c2fe77fa19e202612dc0c0770d9c...   \n",
       "18575  b75bb61498720b6f3070c7bb5567cac371f04e3e3e4ae2...   \n",
       "10808  f38f2be4158dc0e49d4a75983c2fbc2833ba32ab9aa4b3...   \n",
       "\n",
       "                                               receivers  \\\n",
       "12240  41b9da605c37d321fcdbed70be36f75b5978a0c44c7ae8...   \n",
       "9627   2d77a135bd4bc7ed35aeb582360f330007aad504a442e6...   \n",
       "10164  7c297a3dbebba540557532cd79b0e717863522ec4ab386...   \n",
       "18575  fb6ff1de87bad487c7e981c7e8e9eacc0962eba43b447a...   \n",
       "10808  834153b754a750fa32eb8ff67c70590b13706165038525...   \n",
       "\n",
       "                                                 senders  known_s  known_r  \n",
       "12240  34c5c6a8ebdf316bf37f5ef03a229d1837ed20e1b40b42...        1        1  \n",
       "9627   61fcf0ee2b2f41501606c0fe1f42332701cb1e31c30a12...        1        1  \n",
       "10164  dc70fd3a9b7ecf54a2bee61d40d8262c30d50f01d7dbb8...        1        1  \n",
       "18575  2469aba9d45a63c7537763a05f1461dbcea87b328e0087...        1        1  \n",
       "10808  f6149311800bf4d8031cf36f4eca9f7e43bdbd141f9fea...        1        1  "
      ]
     },
     "execution_count": 9,
     "metadata": {},
     "output_type": "execute_result"
    }
   ],
   "source": [
    "sf_test.head()"
   ]
  },
  {
   "cell_type": "code",
   "execution_count": null,
   "metadata": {
    "collapsed": false
   },
   "outputs": [],
   "source": []
  },
  {
   "cell_type": "code",
   "execution_count": 11,
   "metadata": {
    "collapsed": false
   },
   "outputs": [
    {
     "name": "stdout",
     "output_type": "stream",
     "text": [
      "Senders:\n",
      "Number of known senders in train data: 2032\n",
      "Number of known senders in test data: 1008\n",
      "Number of samples with known sender in test data: 4104\n",
      "Percentage of samples with known senders in test data: 0.945\n",
      "\n",
      "Receivers:\n",
      "Number of known receivers in train data: 560\n",
      "Number of known receivers in test data: 401\n",
      "Number of samples with known receivers in test data: 4325\n",
      "Percentage of samples with known receivers in test data: 0.996\n"
     ]
    }
   ],
   "source": [
    "print('Senders:')\n",
    "print('Number of known senders in train data: %d' % (np.unique(sf_train['senders']).shape[0]))\n",
    "print('Number of known senders in test data: %d' % (np.unique(sf_test['senders'])).shape[0])\n",
    "print('Number of samples with known sender in test data: %d' % (sf_test['known_s'].sum()))\n",
    "print('Percentage of samples with known senders in test data: %.3f'% (float(sf_test['known_s'].sum()) / sf_test.shape[0]))\n",
    "\n",
    "print ''\n",
    "print('Receivers:')\n",
    "print('Number of known receivers in train data: %d' % (np.unique(sf_train['receivers']).shape[0]))\n",
    "print('Number of known receivers in test data: %d' % (np.unique(sf_test['receivers'])).shape[0])\n",
    "print('Number of samples with known receivers in test data: %d' % (sf_test['known_r'].sum()))\n",
    "print('Percentage of samples with known receivers in test data: %.3f'% (float(sf_test['known_r'].sum()) / sf_test.shape[0]))"
   ]
  },
  {
   "cell_type": "code",
   "execution_count": 12,
   "metadata": {
    "collapsed": false
   },
   "outputs": [
    {
     "data": {
      "text/plain": [
       "0.94540428472702143"
      ]
     },
     "execution_count": 12,
     "metadata": {},
     "output_type": "execute_result"
    }
   ],
   "source": [
    "(sf_test['known_s']==1).mean()"
   ]
  },
  {
   "cell_type": "markdown",
   "metadata": {},
   "source": [
    "## Only looking at the samples with known labels:"
   ]
  },
  {
   "cell_type": "code",
   "execution_count": 13,
   "metadata": {
    "collapsed": false
   },
   "outputs": [],
   "source": [
    "sf_test_known_s = sf_test[sf_test['known_s']==1]\n",
    "sf_test_known_r = sf_test[sf_test['known_r']==1]"
   ]
  },
  {
   "cell_type": "code",
   "execution_count": 14,
   "metadata": {
    "collapsed": false
   },
   "outputs": [],
   "source": [
    "#import cPickle as pickle\n",
    "\n",
    "from sklearn.feature_extraction.text import CountVectorizer\n",
    "from sklearn.feature_extraction.text import TfidfVectorizer\n",
    "from sklearn.preprocessing import LabelEncoder\n",
    "from sklearn.naive_bayes import MultinomialNB\n",
    "from sklearn.metrics import f1_score, accuracy_score, precision_score\n",
    "import time\n",
    "\n",
    "import pylab as plt\n",
    "%matplotlib inline\n",
    "\n",
    "\n",
    "sv = LabelEncoder()\n",
    "rv = LabelEncoder()\n",
    "dv = TfidfVectorizer(max_df=0.06, min_df=0.001)"
   ]
  },
  {
   "cell_type": "markdown",
   "metadata": {},
   "source": [
    "## label all known sender and receiver in sf_use"
   ]
  },
  {
   "cell_type": "code",
   "execution_count": 15,
   "metadata": {
    "collapsed": false
   },
   "outputs": [
    {
     "data": {
      "text/plain": [
       "LabelEncoder()"
      ]
     },
     "execution_count": 15,
     "metadata": {},
     "output_type": "execute_result"
    }
   ],
   "source": [
    "sv.fit(sf_use['senders']) # label all known sender in sf_use\n",
    "rv.fit(sf_use['receivers']) # label all known receivers in sf_use"
   ]
  },
  {
   "cell_type": "code",
   "execution_count": 16,
   "metadata": {
    "collapsed": false
   },
   "outputs": [
    {
     "data": {
      "text/plain": [
       "(2258,)"
      ]
     },
     "execution_count": 16,
     "metadata": {},
     "output_type": "execute_result"
    }
   ],
   "source": [
    "sv.classes_.shape"
   ]
  },
  {
   "cell_type": "code",
   "execution_count": 17,
   "metadata": {
    "collapsed": false
   },
   "outputs": [
    {
     "data": {
      "text/plain": [
       "(576,)"
      ]
     },
     "execution_count": 17,
     "metadata": {},
     "output_type": "execute_result"
    }
   ],
   "source": [
    "rv.classes_.shape"
   ]
  },
  {
   "cell_type": "code",
   "execution_count": 18,
   "metadata": {
    "collapsed": false
   },
   "outputs": [],
   "source": [
    "train_X = dv.fit_transform(sf_train['text'])\n",
    "train_s = sv.transform(sf_train['senders']) \n",
    "train_r = rv.transform(sf_train['receivers']) "
   ]
  },
  {
   "cell_type": "code",
   "execution_count": 19,
   "metadata": {
    "collapsed": true
   },
   "outputs": [],
   "source": [
    "val_X_s = dv.transform(sf_test_known_s['text'])\n",
    "val_s = sv.transform(sf_test_known_s['senders'])\n",
    "\n",
    "val_X_r = dv.transform(sf_test_known_r['text'])\n",
    "val_r = rv.transform(sf_test_known_r['receivers'])"
   ]
  },
  {
   "cell_type": "code",
   "execution_count": 20,
   "metadata": {
    "collapsed": false
   },
   "outputs": [
    {
     "data": {
      "text/plain": [
       "(17360, 19789)"
      ]
     },
     "execution_count": 20,
     "metadata": {},
     "output_type": "execute_result"
    }
   ],
   "source": [
    "train_X.shape"
   ]
  },
  {
   "cell_type": "code",
   "execution_count": 21,
   "metadata": {
    "collapsed": false
   },
   "outputs": [
    {
     "data": {
      "text/plain": [
       "(4104, 19789)"
      ]
     },
     "execution_count": 21,
     "metadata": {},
     "output_type": "execute_result"
    }
   ],
   "source": [
    "val_X_s.shape"
   ]
  },
  {
   "cell_type": "code",
   "execution_count": 22,
   "metadata": {
    "collapsed": false
   },
   "outputs": [
    {
     "data": {
      "text/plain": [
       "(4325, 19789)"
      ]
     },
     "execution_count": 22,
     "metadata": {},
     "output_type": "execute_result"
    }
   ],
   "source": [
    "val_X_r.shape"
   ]
  },
  {
   "cell_type": "markdown",
   "metadata": {},
   "source": [
    "### double check if all the labels in val exist in train labels (should all included)"
   ]
  },
  {
   "cell_type": "code",
   "execution_count": 23,
   "metadata": {
    "collapsed": true
   },
   "outputs": [],
   "source": [
    "l3 = np.array([x for x in val_s if x not in train_s])"
   ]
  },
  {
   "cell_type": "code",
   "execution_count": 24,
   "metadata": {
    "collapsed": false
   },
   "outputs": [
    {
     "data": {
      "text/plain": [
       "1.0"
      ]
     },
     "execution_count": 24,
     "metadata": {},
     "output_type": "execute_result"
    }
   ],
   "source": [
    "1 - float(l3.shape[0]) / val_s.shape[0]"
   ]
  },
  {
   "cell_type": "code",
   "execution_count": 25,
   "metadata": {
    "collapsed": false
   },
   "outputs": [
    {
     "data": {
      "text/plain": [
       "(17360,)"
      ]
     },
     "execution_count": 25,
     "metadata": {},
     "output_type": "execute_result"
    }
   ],
   "source": [
    "train_s.shape"
   ]
  },
  {
   "cell_type": "code",
   "execution_count": 26,
   "metadata": {
    "collapsed": false
   },
   "outputs": [
    {
     "data": {
      "image/png": "[encoded data removed]",
      "text/plain": [
       "<matplotlib.figure.Figure at 0x1218ec050>"
      ]
     },
     "metadata": {},
     "output_type": "display_data"
    }
   ],
   "source": [
    "u, c = np.unique(train_s, return_counts=True)\n",
    "indices = np.argsort(c)[::-1]\n",
    "fig = plt.scatter(range(u.shape[0]), c[indices])\n",
    "plt.yscale('log')\n"
   ]
  },
  {
   "cell_type": "code",
   "execution_count": null,
   "metadata": {
    "collapsed": false
   },
   "outputs": [],
   "source": []
  },
  {
   "cell_type": "code",
   "execution_count": 27,
   "metadata": {
    "collapsed": false
   },
   "outputs": [
    {
     "data": {
      "image/png": "[encoded data removed]",
      "text/plain": [
       "<matplotlib.figure.Figure at 0x12e6a81d0>"
      ]
     },
     "metadata": {},
     "output_type": "display_data"
    }
   ],
   "source": [
    "u, c = np.unique(train_r, return_counts=True)\n",
    "indices = np.argsort(c)[::-1]\n",
    "fig = plt.scatter(range(u.shape[0]), c[indices])\n",
    "plt.yscale('log')"
   ]
  },
  {
   "cell_type": "code",
   "execution_count": 28,
   "metadata": {
    "collapsed": false
   },
   "outputs": [
    {
     "data": {
      "text/plain": [
       "(17360, 19789)"
      ]
     },
     "execution_count": 28,
     "metadata": {},
     "output_type": "execute_result"
    }
   ],
   "source": [
    "train_X.shape"
   ]
  },
  {
   "cell_type": "code",
   "execution_count": 29,
   "metadata": {
    "collapsed": false
   },
   "outputs": [
    {
     "data": {
      "text/plain": [
       "scipy.sparse.csr.csr_matrix"
      ]
     },
     "execution_count": 29,
     "metadata": {},
     "output_type": "execute_result"
    }
   ],
   "source": [
    "count_train_X = (train_X.toarray()).sum(axis = 0) # note that train_X is a sparse matrix, we change it to an array before plot\n",
    "type(train_X)"
   ]
  },
  {
   "cell_type": "code",
   "execution_count": 30,
   "metadata": {
    "collapsed": false
   },
   "outputs": [
    {
     "data": {
      "image/png": "[encoded data removed]",
      "text/plain": [
       "<matplotlib.figure.Figure at 0x11d154d10>"
      ]
     },
     "metadata": {},
     "output_type": "display_data"
    }
   ],
   "source": [
    "fig = plt.hist(count_train_X, 50)\n",
    "plt.yscale('log')"
   ]
  },
  {
   "cell_type": "code",
   "execution_count": 31,
   "metadata": {
    "collapsed": false
   },
   "outputs": [
    {
     "data": {
      "text/plain": [
       "array([  2.65268931,   3.16944107,  20.45489712,   2.45417142,\n",
       "         2.65133335,  13.08967759,   1.5865465 ,  29.91861789,\n",
       "         1.25007178,   4.89332086])"
      ]
     },
     "execution_count": 31,
     "metadata": {},
     "output_type": "execute_result"
    }
   ],
   "source": [
    "count_train_X[0:10]"
   ]
  },
  {
   "cell_type": "code",
   "execution_count": 32,
   "metadata": {
    "collapsed": false
   },
   "outputs": [
    {
     "data": {
      "text/plain": [
       "154.15068366849178"
      ]
     },
     "execution_count": 32,
     "metadata": {},
     "output_type": "execute_result"
    }
   ],
   "source": [
    "count_train_X.max()"
   ]
  },
  {
   "cell_type": "code",
   "execution_count": 33,
   "metadata": {
    "collapsed": false
   },
   "outputs": [
    {
     "data": {
      "text/plain": [
       "0.011355483143166981"
      ]
     },
     "execution_count": 33,
     "metadata": {},
     "output_type": "execute_result"
    }
   ],
   "source": [
    "count_train_X.max()/13575"
   ]
  },
  {
   "cell_type": "code",
   "execution_count": 34,
   "metadata": {
    "collapsed": false
   },
   "outputs": [
    {
     "name": "stdout",
     "output_type": "stream",
     "text": [
      "0.971247563353\n",
      "0.900670585199\n",
      "0.973704283126\n",
      "0.980137594443\n"
     ]
    },
    {
     "name": "stderr",
     "output_type": "stream",
     "text": [
      "/Users/fuyangliu/anaconda/lib/python2.7/site-packages/sklearn/metrics/classification.py:1074: UndefinedMetricWarning: F-score is ill-defined and being set to 0.0 in labels with no predicted samples.\n",
      "  'precision', 'predicted', average, warn_for)\n",
      "/Users/fuyangliu/anaconda/lib/python2.7/site-packages/sklearn/metrics/classification.py:1076: UndefinedMetricWarning: F-score is ill-defined and being set to 0.0 in labels with no true samples.\n",
      "  'recall', 'true', average, warn_for)\n",
      "/Users/fuyangliu/anaconda/lib/python2.7/site-packages/sklearn/metrics/classification.py:1074: UndefinedMetricWarning: Precision is ill-defined and being set to 0.0 in labels with no predicted samples.\n",
      "  'precision', 'predicted', average, warn_for)\n"
     ]
    }
   ],
   "source": [
    "clf_s = MultinomialNB(alpha=0.0001, fit_prior=False)\n",
    "clf_s.fit(train_X, train_s)\n",
    "pred_s = clf_s.predict(val_X_s)\n",
    "print f1_score(val_s, pred_s, average='micro')\n",
    "print f1_score(val_s, pred_s, average='macro')\n",
    "print f1_score(val_s, pred_s, average='weighted')\n",
    "print precision_score(val_s, pred_s, average='weighted')"
   ]
  },
  {
   "cell_type": "code",
   "execution_count": 35,
   "metadata": {
    "collapsed": false
   },
   "outputs": [
    {
     "data": {
      "text/plain": [
       "array([ 469,  866, 1941, ..., 1087, 1075, 1483])"
      ]
     },
     "execution_count": 35,
     "metadata": {},
     "output_type": "execute_result"
    }
   ],
   "source": [
    "pred_s"
   ]
  },
  {
   "cell_type": "code",
   "execution_count": 36,
   "metadata": {
    "collapsed": false
   },
   "outputs": [
    {
     "data": {
      "text/plain": [
       "array([ 469,  866, 1941, ..., 1087, 1075, 1483])"
      ]
     },
     "execution_count": 36,
     "metadata": {},
     "output_type": "execute_result"
    }
   ],
   "source": [
    "val_s"
   ]
  },
  {
   "cell_type": "code",
   "execution_count": 37,
   "metadata": {
    "collapsed": false
   },
   "outputs": [
    {
     "data": {
      "text/plain": [
       "'99d04ab26da340f743eca519c418a7df1ef28234c88c01aacdade64cdef05591\\n'"
      ]
     },
     "execution_count": 37,
     "metadata": {},
     "output_type": "execute_result"
    }
   ],
   "source": [
    "sv.inverse_transform(1360)"
   ]
  },
  {
   "cell_type": "code",
   "execution_count": 38,
   "metadata": {
    "collapsed": false
   },
   "outputs": [
    {
     "name": "stdout",
     "output_type": "stream",
     "text": [
      "0.782427745665\n",
      "0.370613760792\n",
      "0.805145634982\n",
      "0.85529063531\n"
     ]
    }
   ],
   "source": [
    "clf_r = MultinomialNB(alpha=0.0001, fit_prior=False)\n",
    "clf_r.fit(train_X, train_r)\n",
    "pred_r = clf_r.predict(val_X_r)\n",
    "print f1_score(val_r, pred_r, average='micro')\n",
    "print f1_score(val_r, pred_r, average='macro')\n",
    "print f1_score(val_r, pred_r, average='weighted')\n",
    "print precision_score(val_r, pred_r, average='weighted')"
   ]
  },
  {
   "cell_type": "markdown",
   "metadata": {},
   "source": [
    "# Test some other classifiers"
   ]
  },
  {
   "cell_type": "code",
   "execution_count": 39,
   "metadata": {
    "collapsed": false
   },
   "outputs": [],
   "source": [
    "# Not working\n",
    "#from sklearn.linear_model import LogisticRegression\n",
    "#clf_s = LogisticRegression(n_jobs=-1)\n",
    "#clf_s.fit(train_X, train_s)\n",
    "#pred_s = clf_s.predict(val_X_s)\n",
    "#print f1_score(val_s, pred_s, average='micro')\n",
    "#print f1_score(val_s, pred_s, average='macro')\n",
    "#print f1_score(val_s, pred_s, average='weighted')\n",
    "#print precision_score(val_s, pred_s, average='weighted')"
   ]
  },
  {
   "cell_type": "markdown",
   "metadata": {
    "collapsed": true
   },
   "source": [
    "## Check probability output"
   ]
  },
  {
   "cell_type": "markdown",
   "metadata": {},
   "source": [
    "### For sender:"
   ]
  },
  {
   "cell_type": "code",
   "execution_count": 40,
   "metadata": {
    "collapsed": true
   },
   "outputs": [],
   "source": [
    "pred_prob_s = clf_s.predict_proba(val_X_s)"
   ]
  },
  {
   "cell_type": "code",
   "execution_count": 41,
   "metadata": {
    "collapsed": false
   },
   "outputs": [
    {
     "data": {
      "text/plain": [
       "(4104, 2032)"
      ]
     },
     "execution_count": 41,
     "metadata": {},
     "output_type": "execute_result"
    }
   ],
   "source": [
    "pred_prob_s.shape"
   ]
  },
  {
   "cell_type": "code",
   "execution_count": 42,
   "metadata": {
    "collapsed": false
   },
   "outputs": [
    {
     "data": {
      "text/plain": [
       "array([  3.27969138e-22,   7.23888670e-29,   2.21836288e-24, ...,\n",
       "         1.76887976e-23,   1.23169267e-23,   8.71179729e-24])"
      ]
     },
     "execution_count": 42,
     "metadata": {},
     "output_type": "execute_result"
    }
   ],
   "source": [
    "pred_prob_s[0]"
   ]
  },
  {
   "cell_type": "code",
   "execution_count": 43,
   "metadata": {
    "collapsed": false
   },
   "outputs": [
    {
     "data": {
      "text/plain": [
       "1.0"
      ]
     },
     "execution_count": 43,
     "metadata": {},
     "output_type": "execute_result"
    }
   ],
   "source": [
    "pred_prob_s[0].max()"
   ]
  },
  {
   "cell_type": "code",
   "execution_count": 44,
   "metadata": {
    "collapsed": false
   },
   "outputs": [
    {
     "data": {
      "text/plain": [
       "array([   0,    1,    2, ..., 2255, 2256, 2257])"
      ]
     },
     "execution_count": 44,
     "metadata": {},
     "output_type": "execute_result"
    }
   ],
   "source": [
    "clf_s.classes_"
   ]
  },
  {
   "cell_type": "markdown",
   "metadata": {},
   "source": [
    "#### Now, take a look for the unknown label test:"
   ]
  },
  {
   "cell_type": "code",
   "execution_count": 45,
   "metadata": {
    "collapsed": true
   },
   "outputs": [],
   "source": [
    "sf_test_unknown_s = sf_test[sf_test['known_s']==0]"
   ]
  },
  {
   "cell_type": "code",
   "execution_count": 46,
   "metadata": {
    "collapsed": true
   },
   "outputs": [],
   "source": [
    "val_X_unk_s = dv.transform(sf_test_unknown_s['text'])\n",
    "val_unk_s = sv.transform(sf_test_unknown_s['senders'])"
   ]
  },
  {
   "cell_type": "code",
   "execution_count": 47,
   "metadata": {
    "collapsed": false
   },
   "outputs": [
    {
     "name": "stdout",
     "output_type": "stream",
     "text": [
      "0.0\n",
      "0.0\n",
      "0.0\n",
      "0.0\n"
     ]
    }
   ],
   "source": [
    "pred_unk_s = clf_s.predict(val_X_unk_s)\n",
    "print f1_score(val_unk_s, pred_unk_s, average='micro')\n",
    "print f1_score(val_unk_s, pred_unk_s, average='macro')\n",
    "print f1_score(val_unk_s, pred_unk_s, average='weighted')\n",
    "print precision_score(val_unk_s, pred_unk_s, average='weighted')"
   ]
  },
  {
   "cell_type": "code",
   "execution_count": null,
   "metadata": {
    "collapsed": true
   },
   "outputs": [],
   "source": []
  },
  {
   "cell_type": "code",
   "execution_count": 48,
   "metadata": {
    "collapsed": false
   },
   "outputs": [
    {
     "name": "stdout",
     "output_type": "stream",
     "text": [
      "0.945906432749\n",
      "0.826037925229\n",
      "0.930687653983\n",
      "0.924209846434\n"
     ]
    },
    {
     "data": {
      "text/plain": [
       "<matplotlib.text.Text at 0x12d5c6b90>"
      ]
     },
     "execution_count": 48,
     "metadata": {},
     "output_type": "execute_result"
    },
    {
     "data": {
      "image/png": "[encoded data removed]",
      "text/plain": [
       "<matplotlib.figure.Figure at 0x12de347d0>"
      ]
     },
     "metadata": {},
     "output_type": "display_data"
    }
   ],
   "source": [
    "clf_s = MultinomialNB(alpha=0.1, fit_prior=False)\n",
    "clf_s.fit(train_X, train_s)\n",
    "pred_s = clf_s.predict(val_X_s)\n",
    "print f1_score(val_s, pred_s, average='micro')\n",
    "print f1_score(val_s, pred_s, average='macro')\n",
    "print f1_score(val_s, pred_s, average='weighted')\n",
    "print precision_score(val_s, pred_s, average='weighted')\n",
    "\n",
    "pred_prob_s = clf_s.predict_proba(val_X_s)\n",
    "pred_prob_unk_s = clf_s.predict_proba(val_X_unk_s)\n",
    "\n",
    "\n",
    "plt.figure(figsize=(16,4))\n",
    "plt.subplot(1, 2, 1)\n",
    "plt.hist(pred_prob_s.max(axis=1),20)\n",
    "plt.title('Histogram of predicted maximun probabilities for \\n sender with known labels in training (4087 sampes) \\n alpha=0.1, acc=0.94')\n",
    "#plt.yscale('log')\n",
    "\n",
    "plt.subplot(1, 2, 2)\n",
    "plt.hist(pred_prob_unk_s.max(axis=1),20)\n",
    "plt.title('Histogram of predicted maximun probabilities for \\n sender with UNKNOWN labels in training (254 sampes) \\n alpha=0.1, acc=0.0')\n",
    "#plt.yscale('log')"
   ]
  },
  {
   "cell_type": "code",
   "execution_count": null,
   "metadata": {
    "collapsed": true
   },
   "outputs": [],
   "source": []
  }
 ],
 "metadata": {
  "kernelspec": {
   "display_name": "Python 2",
   "language": "python",
   "name": "python2"
  },
  "language_info": {
   "codemirror_mode": {
    "name": "ipython",
    "version": 2
   },
   "file_extension": ".py",
   "mimetype": "text/x-python",
   "name": "python",
   "nbconvert_exporter": "python",
   "pygments_lexer": "ipython2",
   "version": "2.7.11"
  }
 },
 "nbformat": 4,
 "nbformat_minor": 0
}
